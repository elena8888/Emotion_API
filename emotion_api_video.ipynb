{
 "cells": [
  {
   "cell_type": "code",
   "execution_count": 118,
   "metadata": {
    "collapsed": false
   },
   "outputs": [],
   "source": [
    "import httplib\n",
    "import urllib\n",
    "import base64\n",
    "import json\n",
    "import ijson\n",
    "import pandas as pd\n",
    "import numpy as np\n",
    "import requests\n",
    "import matplotlib.pyplot as plt\n",
    "%matplotlib inline\n",
    "\n",
    "# you have to sign up for an API key, which has some allowances. Check the API documentation for further details:\n",
    "_url = 'https://api.projectoxford.ai/emotion/v1.0/recognizeInVideo'\n",
    "_key = 'ea64a582cd2b489296e32b71f45f21c6' #Here you have to paste your primary key\n",
    "_maxNumRetries = 10\n",
    "\n",
    "\n"
   ]
  },
  {
   "cell_type": "code",
   "execution_count": 119,
   "metadata": {
    "collapsed": false
   },
   "outputs": [
    {
     "name": "stdout",
     "output_type": "stream",
     "text": [
      "202\n"
     ]
    }
   ],
   "source": [
    "paramsPost = urllib.urlencode({'outputStyle' : 'perFrame', 'file':'/Volumes/data/Movies/gots7.mp4'})\n",
    "\n",
    "headersPost = dict()\n",
    "headersPost['Ocp-Apim-Subscription-Key'] = _key\n",
    "headersPost['Content-Type'] = 'application/octet-stream'\n",
    "jsonGet={}\n",
    "headersGet = dict()\n",
    "headersGet['Ocp-Apim-Subscription-Key'] = _key\n",
    "paramsGet = urllib.urlencode({}) \n",
    "\n",
    "responsePost = requests.request( 'post', _url + \"?\" + paramsPost, \\\n",
    "                                data = open('/Volumes/data/Movies/gots7.mp4','rb').read(), \\\n",
    "                                headers = headersPost)\n",
    "\n",
    "print responsePost.status_code\n",
    "\n",
    "\n",
    "\n",
    "\n",
    "\n"
   ]
  },
  {
   "cell_type": "code",
   "execution_count": 120,
   "metadata": {
    "collapsed": false
   },
   "outputs": [
    {
     "name": "stdout",
     "output_type": "stream",
     "text": [
      "https://api.projectoxford.ai/emotion/v1.0/operations/77b76f14-7062-42c0-80fc-4220b8e42695\n"
     ]
    }
   ],
   "source": [
    "videoIDLocation = responsePost.headers['Operation-Location']\n",
    "print videoIDLocation"
   ]
  },
  {
   "cell_type": "code",
   "execution_count": 121,
   "metadata": {
    "collapsed": false
   },
   "outputs": [],
   "source": [
    "getResponse = requests.request( 'get', videoIDLocation, \\\n",
    "                                  data = None, headers = headersGet, params = paramsGet )\n",
    "\n",
    "rawData = json.loads(json.loads(getResponse.text)['processingResult'])\n",
    "\n"
   ]
  },
  {
   "cell_type": "code",
   "execution_count": 123,
   "metadata": {
    "collapsed": false
   },
   "outputs": [],
   "source": [
    "emotionPerFramePerFace = {}\n",
    "currFrameNum = 0\n",
    "\n",
    "for currFragment in rawData['fragments']:\n",
    "    if 'events' in currFragment:\n",
    "        for currEvent in currFragment['events']:\n",
    "            emotionPerFramePerFace[currFrameNum] = currEvent\n",
    "            currFrameNum += 1\n"
   ]
  },
  {
   "cell_type": "code",
   "execution_count": 125,
   "metadata": {
    "collapsed": false
   },
   "outputs": [
    {
     "name": "stdout",
     "output_type": "stream",
     "text": [
      "[{u'height': 0.461111, u'width': 0.259375, u'scores': {u'sadness': 0.490348, u'neutral': 0.50085, u'contempt': 0.00298951, u'disgust': 0.00246058, u'anger': 0.000952272, u'surprise': 0.000819597, u'fear': 0.00130964, u'happiness': 0.000270213}, u'y': -0.0388889, u'x': 0.540625, u'id': 0}]\n"
     ]
    }
   ],
   "source": [
    "print emotionPerFramePerFace[0]"
   ]
  },
  {
   "cell_type": "code",
   "execution_count": 126,
   "metadata": {
    "collapsed": false
   },
   "outputs": [],
   "source": [
    "gotemotions = []\n",
    "for frame_no, v in emotionPerFramePerFace.copy().items():\n",
    "    for i, minidict in enumerate(v):\n",
    "        for k, v in minidict['scores'].items():\n",
    "            minidict[k] = v\n",
    "        minidict['frame'] = frame_no\n",
    "        gotemotions.append(minidict)\n",
    "            "
   ]
  },
  {
   "cell_type": "code",
   "execution_count": 127,
   "metadata": {
    "collapsed": true
   },
   "outputs": [],
   "source": [
    "dfgot = pd.DataFrame(gotemotions)"
   ]
  },
  {
   "cell_type": "code",
   "execution_count": 136,
   "metadata": {
    "collapsed": false
   },
   "outputs": [
    {
     "data": {
      "text/html": [
       "<div style=\"max-height:1000px;max-width:1500px;overflow:auto;\">\n",
       "<table border=\"1\" class=\"dataframe\">\n",
       "  <thead>\n",
       "    <tr style=\"text-align: right;\">\n",
       "      <th></th>\n",
       "      <th>anger</th>\n",
       "      <th>contempt</th>\n",
       "      <th>disgust</th>\n",
       "      <th>fear</th>\n",
       "      <th>frame</th>\n",
       "      <th>happiness</th>\n",
       "      <th>height</th>\n",
       "      <th>id</th>\n",
       "      <th>neutral</th>\n",
       "      <th>sadness</th>\n",
       "      <th>surprise</th>\n",
       "      <th>width</th>\n",
       "      <th>x</th>\n",
       "      <th>y</th>\n",
       "    </tr>\n",
       "  </thead>\n",
       "  <tbody>\n",
       "    <tr>\n",
       "      <th>count</th>\n",
       "      <td> 993.000000</td>\n",
       "      <td> 993.000000</td>\n",
       "      <td> 9.930000e+02</td>\n",
       "      <td> 9.930000e+02</td>\n",
       "      <td> 993.000000</td>\n",
       "      <td> 9.930000e+02</td>\n",
       "      <td> 993.000000</td>\n",
       "      <td> 993.000000</td>\n",
       "      <td> 993.000000</td>\n",
       "      <td> 993.000000</td>\n",
       "      <td> 993.000000</td>\n",
       "      <td> 993.000000</td>\n",
       "      <td> 993.000000</td>\n",
       "      <td> 993.000000</td>\n",
       "    </tr>\n",
       "    <tr>\n",
       "      <th>mean</th>\n",
       "      <td>   0.036747</td>\n",
       "      <td>   0.003811</td>\n",
       "      <td> 3.843246e-03</td>\n",
       "      <td> 1.164629e-02</td>\n",
       "      <td> 444.794562</td>\n",
       "      <td> 6.035468e-02</td>\n",
       "      <td>   0.357830</td>\n",
       "      <td>   4.407855</td>\n",
       "      <td>   0.774471</td>\n",
       "      <td>   0.063553</td>\n",
       "      <td>   0.045574</td>\n",
       "      <td>   0.201279</td>\n",
       "      <td>   0.444787</td>\n",
       "      <td>   0.195359</td>\n",
       "    </tr>\n",
       "    <tr>\n",
       "      <th>std</th>\n",
       "      <td>   0.097501</td>\n",
       "      <td>   0.007878</td>\n",
       "      <td> 1.130599e-02</td>\n",
       "      <td> 3.588751e-02</td>\n",
       "      <td> 246.452917</td>\n",
       "      <td> 1.160212e-01</td>\n",
       "      <td>   0.175798</td>\n",
       "      <td>   3.574075</td>\n",
       "      <td>   0.233285</td>\n",
       "      <td>   0.124912</td>\n",
       "      <td>   0.118813</td>\n",
       "      <td>   0.098886</td>\n",
       "      <td>   0.174347</td>\n",
       "      <td>   0.077487</td>\n",
       "    </tr>\n",
       "    <tr>\n",
       "      <th>min</th>\n",
       "      <td>   0.000001</td>\n",
       "      <td>   0.000002</td>\n",
       "      <td> 5.910130e-08</td>\n",
       "      <td> 1.446170e-08</td>\n",
       "      <td>   0.000000</td>\n",
       "      <td> 8.663520e-10</td>\n",
       "      <td>   0.116667</td>\n",
       "      <td>   0.000000</td>\n",
       "      <td>   0.007790</td>\n",
       "      <td>   0.000016</td>\n",
       "      <td>   0.000001</td>\n",
       "      <td>   0.065625</td>\n",
       "      <td>   0.067187</td>\n",
       "      <td>  -0.038889</td>\n",
       "    </tr>\n",
       "    <tr>\n",
       "      <th>25%</th>\n",
       "      <td>   0.000629</td>\n",
       "      <td>   0.000260</td>\n",
       "      <td> 1.316400e-04</td>\n",
       "      <td> 7.428330e-05</td>\n",
       "      <td> 224.000000</td>\n",
       "      <td> 3.057380e-04</td>\n",
       "      <td>   0.197222</td>\n",
       "      <td>   3.000000</td>\n",
       "      <td>   0.637576</td>\n",
       "      <td>   0.007302</td>\n",
       "      <td>   0.000441</td>\n",
       "      <td>   0.110937</td>\n",
       "      <td>   0.320313</td>\n",
       "      <td>   0.150000</td>\n",
       "    </tr>\n",
       "    <tr>\n",
       "      <th>50%</th>\n",
       "      <td>   0.003500</td>\n",
       "      <td>   0.001087</td>\n",
       "      <td> 5.186400e-04</td>\n",
       "      <td> 6.878760e-04</td>\n",
       "      <td> 459.000000</td>\n",
       "      <td> 5.902920e-03</td>\n",
       "      <td>   0.330556</td>\n",
       "      <td>   3.000000</td>\n",
       "      <td>   0.880521</td>\n",
       "      <td>   0.021362</td>\n",
       "      <td>   0.002675</td>\n",
       "      <td>   0.185937</td>\n",
       "      <td>   0.428125</td>\n",
       "      <td>   0.205556</td>\n",
       "    </tr>\n",
       "    <tr>\n",
       "      <th>75%</th>\n",
       "      <td>   0.017425</td>\n",
       "      <td>   0.003178</td>\n",
       "      <td> 1.692700e-03</td>\n",
       "      <td> 7.126220e-03</td>\n",
       "      <td> 698.000000</td>\n",
       "      <td> 7.573680e-02</td>\n",
       "      <td>   0.491667</td>\n",
       "      <td>   5.000000</td>\n",
       "      <td>   0.952891</td>\n",
       "      <td>   0.057075</td>\n",
       "      <td>   0.023164</td>\n",
       "      <td>   0.276563</td>\n",
       "      <td>   0.551562</td>\n",
       "      <td>   0.236111</td>\n",
       "    </tr>\n",
       "    <tr>\n",
       "      <th>max</th>\n",
       "      <td>   0.725070</td>\n",
       "      <td>   0.119641</td>\n",
       "      <td> 1.232710e-01</td>\n",
       "      <td> 3.140850e-01</td>\n",
       "      <td> 841.000000</td>\n",
       "      <td> 8.289610e-01</td>\n",
       "      <td>   0.894444</td>\n",
       "      <td>  12.000000</td>\n",
       "      <td>   0.999834</td>\n",
       "      <td>   0.960550</td>\n",
       "      <td>   0.745963</td>\n",
       "      <td>   0.503125</td>\n",
       "      <td>   0.875000</td>\n",
       "      <td>   0.394444</td>\n",
       "    </tr>\n",
       "  </tbody>\n",
       "</table>\n",
       "</div>"
      ],
      "text/plain": [
       "            anger    contempt       disgust          fear       frame  \\\n",
       "count  993.000000  993.000000  9.930000e+02  9.930000e+02  993.000000   \n",
       "mean     0.036747    0.003811  3.843246e-03  1.164629e-02  444.794562   \n",
       "std      0.097501    0.007878  1.130599e-02  3.588751e-02  246.452917   \n",
       "min      0.000001    0.000002  5.910130e-08  1.446170e-08    0.000000   \n",
       "25%      0.000629    0.000260  1.316400e-04  7.428330e-05  224.000000   \n",
       "50%      0.003500    0.001087  5.186400e-04  6.878760e-04  459.000000   \n",
       "75%      0.017425    0.003178  1.692700e-03  7.126220e-03  698.000000   \n",
       "max      0.725070    0.119641  1.232710e-01  3.140850e-01  841.000000   \n",
       "\n",
       "          happiness      height          id     neutral     sadness  \\\n",
       "count  9.930000e+02  993.000000  993.000000  993.000000  993.000000   \n",
       "mean   6.035468e-02    0.357830    4.407855    0.774471    0.063553   \n",
       "std    1.160212e-01    0.175798    3.574075    0.233285    0.124912   \n",
       "min    8.663520e-10    0.116667    0.000000    0.007790    0.000016   \n",
       "25%    3.057380e-04    0.197222    3.000000    0.637576    0.007302   \n",
       "50%    5.902920e-03    0.330556    3.000000    0.880521    0.021362   \n",
       "75%    7.573680e-02    0.491667    5.000000    0.952891    0.057075   \n",
       "max    8.289610e-01    0.894444   12.000000    0.999834    0.960550   \n",
       "\n",
       "         surprise       width           x           y  \n",
       "count  993.000000  993.000000  993.000000  993.000000  \n",
       "mean     0.045574    0.201279    0.444787    0.195359  \n",
       "std      0.118813    0.098886    0.174347    0.077487  \n",
       "min      0.000001    0.065625    0.067187   -0.038889  \n",
       "25%      0.000441    0.110937    0.320313    0.150000  \n",
       "50%      0.002675    0.185937    0.428125    0.205556  \n",
       "75%      0.023164    0.276563    0.551562    0.236111  \n",
       "max      0.745963    0.503125    0.875000    0.394444  "
      ]
     },
     "execution_count": 136,
     "metadata": {},
     "output_type": "execute_result"
    }
   ],
   "source": [
    "dfgot.describe()"
   ]
  },
  {
   "cell_type": "code",
   "execution_count": 132,
   "metadata": {
    "collapsed": false
   },
   "outputs": [
    {
     "data": {
      "text/html": [
       "<div style=\"max-height:1000px;max-width:1500px;overflow:auto;\">\n",
       "<table border=\"1\" class=\"dataframe\">\n",
       "  <thead>\n",
       "    <tr style=\"text-align: right;\">\n",
       "      <th></th>\n",
       "      <th>anger</th>\n",
       "      <th>contempt</th>\n",
       "      <th>disgust</th>\n",
       "      <th>fear</th>\n",
       "      <th>happiness</th>\n",
       "      <th>sadness</th>\n",
       "      <th>surprise</th>\n",
       "    </tr>\n",
       "  </thead>\n",
       "  <tbody>\n",
       "    <tr>\n",
       "      <th>0</th>\n",
       "      <td> 0.000952</td>\n",
       "      <td> 0.002990</td>\n",
       "      <td> 0.002461</td>\n",
       "      <td> 0.001310</td>\n",
       "      <td> 0.000270</td>\n",
       "      <td> 0.490348</td>\n",
       "      <td> 0.000820</td>\n",
       "    </tr>\n",
       "    <tr>\n",
       "      <th>1</th>\n",
       "      <td> 0.001265</td>\n",
       "      <td> 0.004934</td>\n",
       "      <td> 0.002183</td>\n",
       "      <td> 0.000721</td>\n",
       "      <td> 0.000518</td>\n",
       "      <td> 0.447253</td>\n",
       "      <td> 0.000515</td>\n",
       "    </tr>\n",
       "    <tr>\n",
       "      <th>2</th>\n",
       "      <td> 0.000557</td>\n",
       "      <td> 0.001987</td>\n",
       "      <td> 0.000673</td>\n",
       "      <td> 0.000154</td>\n",
       "      <td> 0.000274</td>\n",
       "      <td> 0.160957</td>\n",
       "      <td> 0.000323</td>\n",
       "    </tr>\n",
       "    <tr>\n",
       "      <th>3</th>\n",
       "      <td> 0.000372</td>\n",
       "      <td> 0.001852</td>\n",
       "      <td> 0.000673</td>\n",
       "      <td> 0.000261</td>\n",
       "      <td> 0.000766</td>\n",
       "      <td> 0.069445</td>\n",
       "      <td> 0.000772</td>\n",
       "    </tr>\n",
       "    <tr>\n",
       "      <th>4</th>\n",
       "      <td> 0.000510</td>\n",
       "      <td> 0.002643</td>\n",
       "      <td> 0.001578</td>\n",
       "      <td> 0.000324</td>\n",
       "      <td> 0.001119</td>\n",
       "      <td> 0.112447</td>\n",
       "      <td> 0.000858</td>\n",
       "    </tr>\n",
       "  </tbody>\n",
       "</table>\n",
       "</div>"
      ],
      "text/plain": [
       "      anger  contempt   disgust      fear  happiness   sadness  surprise\n",
       "0  0.000952  0.002990  0.002461  0.001310   0.000270  0.490348  0.000820\n",
       "1  0.001265  0.004934  0.002183  0.000721   0.000518  0.447253  0.000515\n",
       "2  0.000557  0.001987  0.000673  0.000154   0.000274  0.160957  0.000323\n",
       "3  0.000372  0.001852  0.000673  0.000261   0.000766  0.069445  0.000772\n",
       "4  0.000510  0.002643  0.001578  0.000324   0.001119  0.112447  0.000858"
      ]
     },
     "execution_count": 132,
     "metadata": {},
     "output_type": "execute_result"
    }
   ],
   "source": [
    "emotions = dfgot[['anger', 'contempt', 'disgust', 'fear', 'happiness', 'sadness', 'surprise']]\n",
    "emotions.head()"
   ]
  },
  {
   "cell_type": "code",
   "execution_count": 135,
   "metadata": {
    "collapsed": false
   },
   "outputs": [
    {
     "data": {
      "text/plain": [
       "<matplotlib.text.Text at 0x10f2a2050>"
      ]
     },
     "execution_count": 135,
     "metadata": {},
     "output_type": "execute_result"
    },
    {
     "data": {
      "image/png": "[encoded data removed]",
      "text/plain": [
       "<matplotlib.figure.Figure at 0x10f270090>"
      ]
     },
     "metadata": {},
     "output_type": "display_data"
    }
   ],
   "source": [
    "avgemotion = emotions.mean()\n",
    "avg_plot = avgemotion.plot(kind='bar', legend=None, title='Avg. Emotions')\n",
    "avg_plot.set_xlabel('Emotions')\n",
    "avg_plot.set_ylabel('Score')"
   ]
  },
  {
   "cell_type": "code",
   "execution_count": null,
   "metadata": {
    "collapsed": true
   },
   "outputs": [],
   "source": []
  }
 ],
 "metadata": {
  "kernelspec": {
   "display_name": "Python 2",
   "language": "python",
   "name": "python2"
  },
  "language_info": {
   "codemirror_mode": {
    "name": "ipython",
    "version": 2
   },
   "file_extension": ".py",
   "mimetype": "text/x-python",
   "name": "python",
   "nbconvert_exporter": "python",
   "pygments_lexer": "ipython2",
   "version": "2.7.12"
  }
 },
 "nbformat": 4,
 "nbformat_minor": 0
}
